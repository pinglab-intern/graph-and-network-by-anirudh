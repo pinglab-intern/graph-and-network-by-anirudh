{
 "cells": [
  {
   "cell_type": "markdown",
   "metadata": {},
   "source": [
    "## Uniprot REST API to extract Protein Data"
   ]
  },
  {
   "cell_type": "code",
   "execution_count": 166,
   "metadata": {},
   "outputs": [],
   "source": [
    "#!pip install xmlschema"
   ]
  },
  {
   "cell_type": "markdown",
   "metadata": {},
   "source": [
    "### [Programmatic access - Retrieving entries via queries](https://www.uniprot.org/help/api_queries)\n"
   ]
  },
  {
   "cell_type": "code",
   "execution_count": 161,
   "metadata": {},
   "outputs": [],
   "source": [
    "\"\"\"\n",
    "Queries Uniprot database and retrieves protein data.\n",
    "\"\"\"\n",
    "import urllib.request\n",
    "from lxml import etree\n",
    "import json\n",
    "import xmlschema\n"
   ]
  },
  {
   "cell_type": "markdown",
   "metadata": {},
   "source": [
    "#### REST api sample queries"
   ]
  },
  {
   "cell_type": "markdown",
   "metadata": {},
   "source": [
    "\n",
    "* UniProtKB results for 'insulin' with the default columns in tab-separated format:\n",
    "\n",
    "```\n",
    "url0 = 'https://www.uniprot.org/uniprot/?query=insulin&sort=score&columns=id,\\\n",
    "entry name,reviewed,protein names,genes,organism,length&format=tab'\n",
    "```\n",
    "\n",
    "* All reviewed human entries:\n",
    "\n",
    "```\n",
    "url1 =\"https://www.uniprot.org/uniprot/?query=reviewed:yes+AND+organism:9606\"\n",
    "\n",
    "```\n",
    "\n",
    "* Specific protein bases entires- specified by data file type\n",
    "\n",
    "```\n",
    "url2 =\"https://www.uniprot.org/uniprot/P12345.fasta\"\n",
    "url3 =\"https://www.uniprot.org/uniprot/P12345.xml\"\n",
    "url4 =\"https://www.uniprot.org/uniprot/P12345.txt\"\n",
    "url5 =\"https://www.uniprot.org/uniprot/P12345.rdf\"\n",
    "url6 =\"https://www.uniprot.org/uniprot/P12345.gff\"\n",
    "```"
   ]
  },
  {
   "cell_type": "markdown",
   "metadata": {},
   "source": [
    "#### Query to search a single Protein detail"
   ]
  },
  {
   "cell_type": "code",
   "execution_count": 162,
   "metadata": {},
   "outputs": [],
   "source": [
    "protein = 'P12345'\n",
    "format = '.xml'\n",
    "url = 'https://www.uniprot.org/uniprot/'+protein+ format\n",
    "        \n",
    "with urllib.request.urlopen(url) as r:\n",
    "    raw_data = r.read().strip()"
   ]
  },
  {
   "cell_type": "code",
   "execution_count": 164,
   "metadata": {},
   "outputs": [],
   "source": [
    "tree = etree.fromstring(raw_data)"
   ]
  },
  {
   "cell_type": "markdown",
   "metadata": {},
   "source": [
    "#### Implement xml schema"
   ]
  },
  {
   "cell_type": "code",
   "execution_count": 168,
   "metadata": {},
   "outputs": [],
   "source": [
    "schema = xmlschema.XMLSchema('https://www.uniprot.org/docs/uniprot.xsd')"
   ]
  },
  {
   "cell_type": "code",
   "execution_count": 169,
   "metadata": {},
   "outputs": [
    {
     "data": {
      "text/plain": [
       "{'alternativeName': [{'fullName': 'Fatty acid-binding protein',\n",
       "   'shortName': ['FABP-1']},\n",
       "  {'fullName': 'Glutamate oxaloacetate transaminase 2'},\n",
       "  {'fullName': 'Kynurenine aminotransferase 4'},\n",
       "  {'fullName': 'Kynurenine aminotransferase IV'},\n",
       "  {'fullName': 'Kynurenine--oxoglutarate transaminase 4'},\n",
       "  {'fullName': 'Kynurenine--oxoglutarate transaminase IV'},\n",
       "  {'fullName': 'Plasma membrane-associated fatty acid-binding protein',\n",
       "   'shortName': ['FABPpm']},\n",
       "  {'fullName': 'Transaminase A'}],\n",
       " 'recommendedName': {'ecNumber': ['2.6.1.1', '2.6.1.7'],\n",
       "  'fullName': 'Aspartate aminotransferase, mitochondrial',\n",
       "  'shortName': ['mAspAT']}}"
      ]
     },
     "execution_count": 169,
     "metadata": {},
     "output_type": "execute_result"
    }
   ],
   "source": [
    "entry_dict = schema.to_dict(tree)\n",
    "content = entry_dict['entry'][0]\n",
    "content['protein']"
   ]
  },
  {
   "cell_type": "code",
   "execution_count": 170,
   "metadata": {},
   "outputs": [
    {
     "data": {
      "text/plain": [
       "['P12345', 'G1SKL2']"
      ]
     },
     "execution_count": 170,
     "metadata": {},
     "output_type": "execute_result"
    }
   ],
   "source": [
    "content['accession']"
   ]
  },
  {
   "cell_type": "code",
   "execution_count": 171,
   "metadata": {},
   "outputs": [
    {
     "data": {
      "text/plain": [
       "[{'name': [{'$': 'GOT2', '@type': 'primary'}]}]"
      ]
     },
     "execution_count": 171,
     "metadata": {},
     "output_type": "execute_result"
    }
   ],
   "source": [
    "content['gene']"
   ]
  },
  {
   "cell_type": "code",
   "execution_count": 172,
   "metadata": {},
   "outputs": [
    {
     "data": {
      "text/plain": [
       "{'dbReference': [{'@id': '9986', '@type': 'NCBI Taxonomy'}],\n",
       " 'lineage': {'taxon': ['Eukaryota',\n",
       "   'Metazoa',\n",
       "   'Chordata',\n",
       "   'Craniata',\n",
       "   'Vertebrata',\n",
       "   'Euteleostomi',\n",
       "   'Mammalia',\n",
       "   'Eutheria',\n",
       "   'Euarchontoglires',\n",
       "   'Glires',\n",
       "   'Lagomorpha',\n",
       "   'Leporidae',\n",
       "   'Oryctolagus']},\n",
       " 'name': [{'$': 'Oryctolagus cuniculus', '@type': 'scientific'},\n",
       "  {'$': 'Rabbit', '@type': 'common'}]}"
      ]
     },
     "execution_count": 172,
     "metadata": {},
     "output_type": "execute_result"
    }
   ],
   "source": [
    "content['organism']"
   ]
  },
  {
   "cell_type": "code",
   "execution_count": 173,
   "metadata": {},
   "outputs": [
    {
     "data": {
      "text/plain": [
       "[{'@key': '1',\n",
       "  'citation': {'@date': '2009-08',\n",
       "   '@db': 'EMBL/GenBank/DDBJ databases',\n",
       "   '@type': 'submission',\n",
       "   'authorList': {'consortium': [{'@name': 'The Genome Sequencing Platform'}],\n",
       "    'person': [{'@name': 'Di Palma F.'},\n",
       "     {'@name': 'Heiman D.'},\n",
       "     {'@name': 'Young S.'},\n",
       "     {'@name': 'Gnerre S.'},\n",
       "     {'@name': 'Johnson J.'},\n",
       "     {'@name': 'Lander E.S.'},\n",
       "     {'@name': 'Lindblad-Toh K.'}]},\n",
       "   'title': 'Genome Sequence of Oryctolagus cuniculus (European rabbit).'},\n",
       "  'scope': ['NUCLEOTIDE SEQUENCE [LARGE SCALE GENOMIC DNA]'],\n",
       "  'source': {'strain': ['Thorbecke']}},\n",
       " {'@key': '2',\n",
       "  'citation': {'@date': '1985',\n",
       "   '@first': '1337',\n",
       "   '@last': '1345',\n",
       "   '@name': 'J. Biochem.',\n",
       "   '@type': 'journal article',\n",
       "   '@volume': '97',\n",
       "   'authorList': {'person': [{'@name': 'Kuramitsu S.'},\n",
       "     {'@name': 'Inoue K.'},\n",
       "     {'@name': 'Kondo K.'},\n",
       "     {'@name': 'Aki K.'},\n",
       "     {'@name': 'Kagamiyama H.'}]},\n",
       "   'dbReference': [{'@id': '4030726', '@type': 'PubMed'},\n",
       "    {'@id': '10.1093/oxfordjournals.jbchem.a135186', '@type': 'DOI'}],\n",
       "   'title': 'Aspartate aminotransferase isozymes from rabbit liver. Purification and properties.'},\n",
       "  'scope': ['PROTEIN SEQUENCE OF 30-59'],\n",
       "  'source': {'tissue': ['Liver']}}]"
      ]
     },
     "execution_count": 173,
     "metadata": {},
     "output_type": "execute_result"
    }
   ],
   "source": [
    "content['reference']"
   ]
  },
  {
   "cell_type": "code",
   "execution_count": 175,
   "metadata": {},
   "outputs": [
    {
     "data": {
      "text/plain": [
       "[{'@type': 'function',\n",
       "  'text': [{'$': 'Catalyzes the irreversible transamination of the L-tryptophan metabolite L-kynurenine to form kynurenic acid (KA). As a member of the malate-aspartate shuttle, it has a key role in the intracellular NAD(H) redox balance. Is important for metabolite exchange between mitochondria and cytosol, and for amino acid metabolism. Facilitates cellular uptake of long-chain free fatty acids.',\n",
       "    '@evidence': [2]}]},\n",
       " {'@type': 'catalytic activity',\n",
       "  'reaction': {'dbReference': [{'@id': 'RHEA:21824', '@type': 'Rhea'},\n",
       "    {'@id': 'CHEBI:16452', '@type': 'ChEBI'},\n",
       "    {'@id': 'CHEBI:16810', '@type': 'ChEBI'},\n",
       "    {'@id': 'CHEBI:29985', '@type': 'ChEBI'},\n",
       "    {'@id': 'CHEBI:29991', '@type': 'ChEBI'},\n",
       "    {'@id': '2.6.1.1', '@type': 'EC'}],\n",
       "   'text': '2-oxoglutarate + L-aspartate = L-glutamate + oxaloacetate'}},\n",
       " {'@type': 'catalytic activity',\n",
       "  'reaction': {'dbReference': [{'@id': 'RHEA:20964', '@type': 'Rhea'},\n",
       "    {'@id': 'CHEBI:16810', '@type': 'ChEBI'},\n",
       "    {'@id': 'CHEBI:29985', '@type': 'ChEBI'},\n",
       "    {'@id': 'CHEBI:57959', '@type': 'ChEBI'},\n",
       "    {'@id': 'CHEBI:58147', '@type': 'ChEBI'},\n",
       "    {'@id': '2.6.1.7', '@type': 'EC'}],\n",
       "   'text': '2-oxoglutarate + L-kynurenine = 4-(2-aminophenyl)-2,4-dioxobutanoate + L-glutamate'}},\n",
       " {'@type': 'cofactor',\n",
       "  'cofactor': [{'@evidence': [1],\n",
       "    'dbReference': {'@id': 'CHEBI:597326', '@type': 'ChEBI'},\n",
       "    'name': \"pyridoxal 5'-phosphate\"}]},\n",
       " {'@type': 'subunit', 'text': [{'$': 'Homodimer.', '@evidence': [1]}]},\n",
       " {'@type': 'subcellular location',\n",
       "  'subcellularLocation': [{'location': [{'$': 'Mitochondrion matrix',\n",
       "      '@evidence': [1]}]},\n",
       "   {'location': [{'$': 'Cell membrane', '@evidence': [1]}]}]},\n",
       " {'@type': 'miscellaneous',\n",
       "  'text': ['In eukaryotes there are cytoplasmic, mitochondrial and chloroplastic isozymes.']},\n",
       " {'@type': 'similarity',\n",
       "  'text': [{'$': 'Belongs to the class-I pyridoxal-phosphate-dependent aminotransferase family.',\n",
       "    '@evidence': [6]}]}]"
      ]
     },
     "execution_count": 175,
     "metadata": {},
     "output_type": "execute_result"
    }
   ],
   "source": [
    "content['comment']"
   ]
  },
  {
   "cell_type": "code",
   "execution_count": 176,
   "metadata": {},
   "outputs": [
    {
     "data": {
      "text/plain": [
       "{'$': 'MALLHSARVLSGVASAFHPGLAAAASARASSWWAHVEMGPPDPILGVTEAYKRDTNSKKMNLGVGAYRDDNGKPYVLPSVRKAEAQIAAKGLDKEYLPIGGLAEFCRASAELALGENSEVVKSGRFVTVQTISGTGALRIGASFLQRFFKFSRDVFLPKPSWGNHTPIFRDAGMQLQSYRYYDPKTCGFDFTGALEDISKIPEQSVLLLHACAHNPTGVDPRPEQWKEIATVVKKRNLFAFFDMAYQGFASGDGDKDAWAVRHFIEQGINVCLCQSYAKNMGLYGERVGAFTVICKDADEAKRVESQLKILIRPMYSNPPIHGARIASTILTSPDLRKQWLQEVKGMADRIIGMRTQLVSNLKKEGSTHSWQHITDQIGMFCFTGLKPEQVERLTKEFSIYMTKDGRISVAGVTSGNVGYLAHAIHQVTK',\n",
       " '@checksum': '12F54284974D27A5',\n",
       " '@length': 430,\n",
       " '@mass': 47409,\n",
       " '@modified': '2013-09-18',\n",
       " '@precursor': True,\n",
       " '@version': 2}"
      ]
     },
     "execution_count": 176,
     "metadata": {},
     "output_type": "execute_result"
    }
   ],
   "source": [
    "content['sequence']"
   ]
  },
  {
   "cell_type": "markdown",
   "metadata": {},
   "source": [
    "### Collecting Protein name and synonims and abbreviations"
   ]
  },
  {
   "cell_type": "code",
   "execution_count": 177,
   "metadata": {},
   "outputs": [
    {
     "data": {
      "text/html": [
       "<div>\n",
       "<style scoped>\n",
       "    .dataframe tbody tr th:only-of-type {\n",
       "        vertical-align: middle;\n",
       "    }\n",
       "\n",
       "    .dataframe tbody tr th {\n",
       "        vertical-align: top;\n",
       "    }\n",
       "\n",
       "    .dataframe thead th {\n",
       "        text-align: right;\n",
       "    }\n",
       "</style>\n",
       "<table border=\"1\" class=\"dataframe\">\n",
       "  <thead>\n",
       "    <tr style=\"text-align: right;\">\n",
       "      <th></th>\n",
       "      <th>Entry</th>\n",
       "      <th>Entry name</th>\n",
       "      <th>Protein names</th>\n",
       "      <th>Gene names</th>\n",
       "    </tr>\n",
       "  </thead>\n",
       "  <tbody>\n",
       "    <tr>\n",
       "      <th>0</th>\n",
       "      <td>P16860</td>\n",
       "      <td>ANFB_HUMAN</td>\n",
       "      <td>Natriuretic peptides B (Gamma-brain natriureti...</td>\n",
       "      <td>NPPB</td>\n",
       "    </tr>\n",
       "  </tbody>\n",
       "</table>\n",
       "</div>"
      ],
      "text/plain": [
       "    Entry  Entry name                                      Protein names  \\\n",
       "0  P16860  ANFB_HUMAN  Natriuretic peptides B (Gamma-brain natriureti...   \n",
       "\n",
       "  Gene names  \n",
       "0       NPPB  "
      ]
     },
     "execution_count": 177,
     "metadata": {},
     "output_type": "execute_result"
    }
   ],
   "source": [
    "import pandas as pd\n",
    "\n",
    "df = pd.read_csv(\"input/8kProteins.csv\")\n",
    "df.head(1)"
   ]
  },
  {
   "cell_type": "code",
   "execution_count": 180,
   "metadata": {},
   "outputs": [],
   "source": [
    "uids = list(df['Entry'])"
   ]
  },
  {
   "cell_type": "code",
   "execution_count": 182,
   "metadata": {},
   "outputs": [],
   "source": [
    "#for uids"
   ]
  },
  {
   "cell_type": "markdown",
   "metadata": {},
   "source": [
    "#### From downloaded file"
   ]
  },
  {
   "cell_type": "code",
   "execution_count": null,
   "metadata": {},
   "outputs": [],
   "source": [
    "#file =  open(\"P12345.xml\", 'w')\n",
    "#file.write(draw_data)\n",
    "#entry_dict = schema.to_dict('./data/P12345.xml')"
   ]
  },
  {
   "cell_type": "code",
   "execution_count": 141,
   "metadata": {},
   "outputs": [
    {
     "data": {
      "text/plain": [
       "dict_keys(['@xmlns', '@xmlns:xsi', '@xsi:schemaLocation', 'entry', 'copyright'])"
      ]
     },
     "execution_count": 141,
     "metadata": {},
     "output_type": "execute_result"
    }
   ],
   "source": [
    "entry_dict.keys()"
   ]
  },
  {
   "cell_type": "code",
   "execution_count": 142,
   "metadata": {},
   "outputs": [],
   "source": [
    "content = entry_dict['entry'][0]"
   ]
  },
  {
   "cell_type": "code",
   "execution_count": 143,
   "metadata": {},
   "outputs": [
    {
     "data": {
      "text/plain": [
       "['@dataset', '@created', '@modified', '@version', 'accession', 'name']"
      ]
     },
     "execution_count": 143,
     "metadata": {},
     "output_type": "execute_result"
    }
   ],
   "source": [
    "list(content)[:6]"
   ]
  },
  {
   "cell_type": "code",
   "execution_count": 144,
   "metadata": {},
   "outputs": [
    {
     "data": {
      "text/plain": [
       "['P12345', 'G1SKL2']"
      ]
     },
     "execution_count": 144,
     "metadata": {},
     "output_type": "execute_result"
    }
   ],
   "source": [
    "content['accession']"
   ]
  },
  {
   "cell_type": "code",
   "execution_count": 145,
   "metadata": {},
   "outputs": [
    {
     "data": {
      "text/plain": [
       "{'alternativeName': [{'fullName': 'Fatty acid-binding protein',\n",
       "   'shortName': ['FABP-1']},\n",
       "  {'fullName': 'Glutamate oxaloacetate transaminase 2'},\n",
       "  {'fullName': 'Kynurenine aminotransferase 4'},\n",
       "  {'fullName': 'Kynurenine aminotransferase IV'},\n",
       "  {'fullName': 'Kynurenine--oxoglutarate transaminase 4'},\n",
       "  {'fullName': 'Kynurenine--oxoglutarate transaminase IV'},\n",
       "  {'fullName': 'Plasma membrane-associated fatty acid-binding protein',\n",
       "   'shortName': ['FABPpm']},\n",
       "  {'fullName': 'Transaminase A'}],\n",
       " 'recommendedName': {'ecNumber': ['2.6.1.1', '2.6.1.7'],\n",
       "  'fullName': 'Aspartate aminotransferase, mitochondrial',\n",
       "  'shortName': ['mAspAT']}}"
      ]
     },
     "execution_count": 145,
     "metadata": {},
     "output_type": "execute_result"
    }
   ],
   "source": [
    "content['protein']"
   ]
  },
  {
   "cell_type": "markdown",
   "metadata": {},
   "source": [
    "### References\n",
    "1. https://gist.github.com/JoaoRodrigues/afe11985e4cab4c0002eebae2213e0a8\n",
    "2. https://docs.python.org/3/howto/argparse.html\n",
    "3. https://www.uniprot.org/help/api_retrieve_entries\n",
    "4. https://blog.liang2.tw/posts/2018/01/read-uniprotkb-xml/"
   ]
  },
  {
   "cell_type": "code",
   "execution_count": null,
   "metadata": {},
   "outputs": [],
   "source": []
  }
 ],
 "metadata": {
  "kernelspec": {
   "display_name": "Python 3",
   "language": "python",
   "name": "python3"
  },
  "language_info": {
   "codemirror_mode": {
    "name": "ipython",
    "version": 3
   },
   "file_extension": ".py",
   "mimetype": "text/x-python",
   "name": "python",
   "nbconvert_exporter": "python",
   "pygments_lexer": "ipython3",
   "version": "3.6.6"
  }
 },
 "nbformat": 4,
 "nbformat_minor": 2
}
